{
 "cells": [
  {
   "cell_type": "code",
   "execution_count": null,
   "metadata": {},
   "outputs": [],
   "source": [
    "Для заданной формулой функции найти:\n",
    "1.Область определения функции.\n",
    "2.Является ли функция четной или нечетной, является ли периодической.\n",
    "3.Точки пересечения графика с осями координат.\n",
    "4.Промежутки знакопостоянства.\n",
    "5.Промежутки возрастания и убывания.\n",
    "6.Точки экстремума и значения в этих точках.\n",
    "7.Непрерывность. Наличие точек разрыва и их классификация.\n",
    "8.Асимптоты."
   ]
  },
  {
   "cell_type": "code",
   "execution_count": 124,
   "metadata": {},
   "outputs": [
    {
     "name": "stdout",
     "output_type": "stream",
     "text": [
      "Номер вашего задания: 1.\n"
     ]
    },
    {
     "data": {
      "text/html": [
       "<html><script type=\"math/tex; mode=display\">\\newcommand{\\Bold}[1]{\\mathbf{#1}}\\verb|Ваша|\\phantom{\\verb!x!}\\verb|функция:| \\frac{{\\left(x^{2} - 4\\right)} \\sin\\left(\\frac{1}{6} \\, \\pi x^{2}\\right)}{x^{2} - 1}</script></html>"
      ],
      "text/latex": [
       "\\begin{math}\n",
       "\\newcommand{\\Bold}[1]{\\mathbf{#1}}\\verb|Ваша|\\phantom{\\verb!x!}\\verb|функция:| \\frac{{\\left(x^{2} - 4\\right)} \\sin\\left(\\frac{1}{6} \\, \\pi x^{2}\\right)}{x^{2} - 1}\n",
       "\\end{math}"
      ],
      "text/plain": [
       "'Ваша функция: ' (x^2 - 4)*sin(1/6*pi*x^2)/(x^2 - 1)"
      ]
     },
     "metadata": {},
     "output_type": "display_data"
    }
   ],
   "source": [
    "def get_variant_for_number(_number, _variations_quo):\n",
    "    return (_number - 1) % _variations_quo\n",
    "\n",
    "\n",
    "your_number = 23  # сюда вбить ваш номер по списку в рейтинге \n",
    "number_of_your_task = get_variant_for_number(_number=your_number, _variations_quo=len(tasks))\n",
    "print(f\"Номер вашего задания: {number_of_your_task}.\")\n",
    "show(\"Ваша функция: \", tasks[number_of_your_task])"
   ]
  },
  {
   "cell_type": "code",
   "execution_count": 125,
   "metadata": {},
   "outputs": [],
   "source": [
    "y = ((x^2-4)*sin(1/6*pi*x^2))/(x^2-1)"
   ]
  },
  {
   "cell_type": "code",
   "execution_count": 126,
   "metadata": {},
   "outputs": [
    {
     "data": {
      "text/html": [
       "<html><script type=\"math/tex; mode=display\">\\newcommand{\\Bold}[1]{\\mathbf{#1}}\\frac{{\\left(x^{2} - 4\\right)} \\sin\\left(\\frac{1}{6} \\, \\pi x^{2}\\right)}{x^{2} - 1}</script></html>"
      ],
      "text/latex": [
       "\\begin{math}\n",
       "\\newcommand{\\Bold}[1]{\\mathbf{#1}}\\frac{{\\left(x^{2} - 4\\right)} \\sin\\left(\\frac{1}{6} \\, \\pi x^{2}\\right)}{x^{2} - 1}\n",
       "\\end{math}"
      ],
      "text/plain": [
       "(x^2 - 4)*sin(1/6*pi*x^2)/(x^2 - 1)"
      ]
     },
     "metadata": {},
     "output_type": "display_data"
    }
   ],
   "source": [
    "show(y)"
   ]
  },
  {
   "cell_type": "markdown",
   "metadata": {},
   "source": [
    "Нарисуем график нашей функции\n"
   ]
  },
  {
   "cell_type": "code",
   "execution_count": 213,
   "metadata": {},
   "outputs": [
    {
     "data": {
      "image/png": "[encoded data removed]",
      "text/plain": [
       "Graphics object consisting of 1 graphics primitive"
      ]
     },
     "execution_count": 213,
     "metadata": {},
     "output_type": "execute_result"
    }
   ],
   "source": [
    "plot(y, xmax = 4, xmin = -4, ymax = 4, ymin = -4)"
   ]
  },
  {
   "cell_type": "markdown",
   "metadata": {},
   "source": [
    " Вывод : D (область определения функции) : x $\\neq$ -1; 1"
   ]
  },
  {
   "cell_type": "markdown",
   "metadata": {},
   "source": [
    "# Определим четность-нечетность и периодичность функции\n"
   ]
  },
  {
   "cell_type": "code",
   "execution_count": 135,
   "metadata": {},
   "outputs": [
    {
     "data": {
      "text/plain": [
       "(x^2 - 4)*sin(1/6*pi*x^2)/(x^2 - 1)"
      ]
     },
     "execution_count": 135,
     "metadata": {},
     "output_type": "execute_result"
    }
   ],
   "source": [
    "y(x)"
   ]
  },
  {
   "cell_type": "code",
   "execution_count": 136,
   "metadata": {},
   "outputs": [
    {
     "data": {
      "text/plain": [
       "(x^2 - 4)*sin(1/6*pi*x^2)/(x^2 - 1)"
      ]
     },
     "execution_count": 136,
     "metadata": {},
     "output_type": "execute_result"
    }
   ],
   "source": [
    "y(-x)"
   ]
  },
  {
   "cell_type": "code",
   "execution_count": 137,
   "metadata": {},
   "outputs": [
    {
     "data": {
      "text/plain": [
       "(x^2 - 4)*sin(1/6*pi*x^2)/(x^2 - 1) == (x^2 - 4)*sin(1/6*pi*x^2)/(x^2 - 1)"
      ]
     },
     "execution_count": 137,
     "metadata": {},
     "output_type": "execute_result"
    }
   ],
   "source": [
    "y(x)==y(-x)"
   ]
  },
  {
   "cell_type": "markdown",
   "metadata": {},
   "source": [
    "Вывод : функция является чётной"
   ]
  },
  {
   "cell_type": "code",
   "execution_count": 138,
   "metadata": {},
   "outputs": [
    {
     "data": {
      "text/plain": [
       "-(((2*T*x^3*sin(1/6*pi*T^2) + x^4*sin(1/6*pi*T^2) + (T^2 - 5)*x^2*sin(1/6*pi*T^2) - 2*T*x*sin(1/6*pi*T^2) - (T^2 - 4)*sin(1/6*pi*T^2))*cos(1/3*pi*T*x) + (2*T*x^3*cos(1/6*pi*T^2) + x^4*cos(1/6*pi*T^2) + (T^2 - 5)*x^2*cos(1/6*pi*T^2) - 2*T*x*cos(1/6*pi*T^2) - (T^2 - 4)*cos(1/6*pi*T^2))*sin(1/3*pi*T*x))*cos(1/6*pi*x^2) - (2*T*x^3 + x^4 + (T^2 - 5)*x^2 - 4*T^2 - 8*T*x - (2*T*x^3*cos(1/6*pi*T^2) + x^4*cos(1/6*pi*T^2) + (T^2 - 5)*x^2*cos(1/6*pi*T^2) - 2*T*x*cos(1/6*pi*T^2) - (T^2 - 4)*cos(1/6*pi*T^2))*cos(1/3*pi*T*x) + (2*T*x^3*sin(1/6*pi*T^2) + x^4*sin(1/6*pi*T^2) + (T^2 - 5)*x^2*sin(1/6*pi*T^2) - 2*T*x*sin(1/6*pi*T^2) - (T^2 - 4)*sin(1/6*pi*T^2))*sin(1/3*pi*T*x) + 4)*sin(1/6*pi*x^2))/(2*T*x^3 + x^4 + (T^2 - 2)*x^2 - T^2 - 2*T*x + 1)"
      ]
     },
     "execution_count": 138,
     "metadata": {},
     "output_type": "execute_result"
    }
   ],
   "source": [
    "var(\"x T\")\n",
    "eq1 = y(x) - y(x+T)\n",
    "eq1.simplify_full()"
   ]
  },
  {
   "cell_type": "code",
   "execution_count": 139,
   "metadata": {
    "scrolled": true
   },
   "outputs": [
    {
     "data": {
      "text/html": [
       "<html><script type=\"math/tex; mode=display\">\\newcommand{\\Bold}[1]{\\mathbf{#1}}-\\frac{{\\left({\\left(2 \\, T x^{3} \\sin\\left(\\frac{1}{6} \\, \\pi T^{2}\\right) + x^{4} \\sin\\left(\\frac{1}{6} \\, \\pi T^{2}\\right) + {\\left(T^{2} - 5\\right)} x^{2} \\sin\\left(\\frac{1}{6} \\, \\pi T^{2}\\right) - 2 \\, T x \\sin\\left(\\frac{1}{6} \\, \\pi T^{2}\\right) - {\\left(T^{2} - 4\\right)} \\sin\\left(\\frac{1}{6} \\, \\pi T^{2}\\right)\\right)} \\cos\\left(\\frac{1}{3} \\, \\pi T x\\right) + {\\left(2 \\, T x^{3} \\cos\\left(\\frac{1}{6} \\, \\pi T^{2}\\right) + x^{4} \\cos\\left(\\frac{1}{6} \\, \\pi T^{2}\\right) + {\\left(T^{2} - 5\\right)} x^{2} \\cos\\left(\\frac{1}{6} \\, \\pi T^{2}\\right) - 2 \\, T x \\cos\\left(\\frac{1}{6} \\, \\pi T^{2}\\right) - {\\left(T^{2} - 4\\right)} \\cos\\left(\\frac{1}{6} \\, \\pi T^{2}\\right)\\right)} \\sin\\left(\\frac{1}{3} \\, \\pi T x\\right)\\right)} \\cos\\left(\\frac{1}{6} \\, \\pi x^{2}\\right) - {\\left(2 \\, T x^{3} + x^{4} + {\\left(T^{2} - 5\\right)} x^{2} - 4 \\, T^{2} - 8 \\, T x - {\\left(2 \\, T x^{3} \\cos\\left(\\frac{1}{6} \\, \\pi T^{2}\\right) + x^{4} \\cos\\left(\\frac{1}{6} \\, \\pi T^{2}\\right) + {\\left(T^{2} - 5\\right)} x^{2} \\cos\\left(\\frac{1}{6} \\, \\pi T^{2}\\right) - 2 \\, T x \\cos\\left(\\frac{1}{6} \\, \\pi T^{2}\\right) - {\\left(T^{2} - 4\\right)} \\cos\\left(\\frac{1}{6} \\, \\pi T^{2}\\right)\\right)} \\cos\\left(\\frac{1}{3} \\, \\pi T x\\right) + {\\left(2 \\, T x^{3} \\sin\\left(\\frac{1}{6} \\, \\pi T^{2}\\right) + x^{4} \\sin\\left(\\frac{1}{6} \\, \\pi T^{2}\\right) + {\\left(T^{2} - 5\\right)} x^{2} \\sin\\left(\\frac{1}{6} \\, \\pi T^{2}\\right) - 2 \\, T x \\sin\\left(\\frac{1}{6} \\, \\pi T^{2}\\right) - {\\left(T^{2} - 4\\right)} \\sin\\left(\\frac{1}{6} \\, \\pi T^{2}\\right)\\right)} \\sin\\left(\\frac{1}{3} \\, \\pi T x\\right) + 4\\right)} \\sin\\left(\\frac{1}{6} \\, \\pi x^{2}\\right)}{2 \\, T x^{3} + x^{4} + {\\left(T^{2} - 2\\right)} x^{2} - T^{2} - 2 \\, T x + 1}</script></html>"
      ],
      "text/latex": [
       "\\begin{math}\n",
       "\\newcommand{\\Bold}[1]{\\mathbf{#1}}-\\frac{{\\left({\\left(2 \\, T x^{3} \\sin\\left(\\frac{1}{6} \\, \\pi T^{2}\\right) + x^{4} \\sin\\left(\\frac{1}{6} \\, \\pi T^{2}\\right) + {\\left(T^{2} - 5\\right)} x^{2} \\sin\\left(\\frac{1}{6} \\, \\pi T^{2}\\right) - 2 \\, T x \\sin\\left(\\frac{1}{6} \\, \\pi T^{2}\\right) - {\\left(T^{2} - 4\\right)} \\sin\\left(\\frac{1}{6} \\, \\pi T^{2}\\right)\\right)} \\cos\\left(\\frac{1}{3} \\, \\pi T x\\right) + {\\left(2 \\, T x^{3} \\cos\\left(\\frac{1}{6} \\, \\pi T^{2}\\right) + x^{4} \\cos\\left(\\frac{1}{6} \\, \\pi T^{2}\\right) + {\\left(T^{2} - 5\\right)} x^{2} \\cos\\left(\\frac{1}{6} \\, \\pi T^{2}\\right) - 2 \\, T x \\cos\\left(\\frac{1}{6} \\, \\pi T^{2}\\right) - {\\left(T^{2} - 4\\right)} \\cos\\left(\\frac{1}{6} \\, \\pi T^{2}\\right)\\right)} \\sin\\left(\\frac{1}{3} \\, \\pi T x\\right)\\right)} \\cos\\left(\\frac{1}{6} \\, \\pi x^{2}\\right) - {\\left(2 \\, T x^{3} + x^{4} + {\\left(T^{2} - 5\\right)} x^{2} - 4 \\, T^{2} - 8 \\, T x - {\\left(2 \\, T x^{3} \\cos\\left(\\frac{1}{6} \\, \\pi T^{2}\\right) + x^{4} \\cos\\left(\\frac{1}{6} \\, \\pi T^{2}\\right) + {\\left(T^{2} - 5\\right)} x^{2} \\cos\\left(\\frac{1}{6} \\, \\pi T^{2}\\right) - 2 \\, T x \\cos\\left(\\frac{1}{6} \\, \\pi T^{2}\\right) - {\\left(T^{2} - 4\\right)} \\cos\\left(\\frac{1}{6} \\, \\pi T^{2}\\right)\\right)} \\cos\\left(\\frac{1}{3} \\, \\pi T x\\right) + {\\left(2 \\, T x^{3} \\sin\\left(\\frac{1}{6} \\, \\pi T^{2}\\right) + x^{4} \\sin\\left(\\frac{1}{6} \\, \\pi T^{2}\\right) + {\\left(T^{2} - 5\\right)} x^{2} \\sin\\left(\\frac{1}{6} \\, \\pi T^{2}\\right) - 2 \\, T x \\sin\\left(\\frac{1}{6} \\, \\pi T^{2}\\right) - {\\left(T^{2} - 4\\right)} \\sin\\left(\\frac{1}{6} \\, \\pi T^{2}\\right)\\right)} \\sin\\left(\\frac{1}{3} \\, \\pi T x\\right) + 4\\right)} \\sin\\left(\\frac{1}{6} \\, \\pi x^{2}\\right)}{2 \\, T x^{3} + x^{4} + {\\left(T^{2} - 2\\right)} x^{2} - T^{2} - 2 \\, T x + 1}\n",
       "\\end{math}"
      ],
      "text/plain": [
       "-(((2*T*x^3*sin(1/6*pi*T^2) + x^4*sin(1/6*pi*T^2) + (T^2 - 5)*x^2*sin(1/6*pi*T^2) - 2*T*x*sin(1/6*pi*T^2) - (T^2 - 4)*sin(1/6*pi*T^2))*cos(1/3*pi*T*x) + (2*T*x^3*cos(1/6*pi*T^2) + x^4*cos(1/6*pi*T^2) + (T^2 - 5)*x^2*cos(1/6*pi*T^2) - 2*T*x*cos(1/6*pi*T^2) - (T^2 - 4)*cos(1/6*pi*T^2))*sin(1/3*pi*T*x))*cos(1/6*pi*x^2) - (2*T*x^3 + x^4 + (T^2 - 5)*x^2 - 4*T^2 - 8*T*x - (2*T*x^3*cos(1/6*pi*T^2) + x^4*cos(1/6*pi*T^2) + (T^2 - 5)*x^2*cos(1/6*pi*T^2) - 2*T*x*cos(1/6*pi*T^2) - (T^2 - 4)*cos(1/6*pi*T^2))*cos(1/3*pi*T*x) + (2*T*x^3*sin(1/6*pi*T^2) + x^4*sin(1/6*pi*T^2) + (T^2 - 5)*x^2*sin(1/6*pi*T^2) - 2*T*x*sin(1/6*pi*T^2) - (T^2 - 4)*sin(1/6*pi*T^2))*sin(1/3*pi*T*x) + 4)*sin(1/6*pi*x^2))/(2*T*x^3 + x^4 + (T^2 - 2)*x^2 - T^2 - 2*T*x + 1)"
      ]
     },
     "metadata": {},
     "output_type": "display_data"
    }
   ],
   "source": [
    "eq1= _\n",
    "show (eq1)"
   ]
  },
  {
   "cell_type": "code",
   "execution_count": 140,
   "metadata": {},
   "outputs": [
    {
     "data": {
      "text/plain": [
       "5/8"
      ]
     },
     "execution_count": 140,
     "metadata": {},
     "output_type": "execute_result"
    }
   ],
   "source": [
    "eq1(x=2, T=1 )"
   ]
  },
  {
   "cell_type": "code",
   "execution_count": 141,
   "metadata": {},
   "outputs": [
    {
     "data": {
      "text/plain": [
       "((T + x)^2 - 4)*sin(1/6*pi*T^2 + 1/3*pi*T*x + 1/6*pi*x^2)/((T + x)^2 - 1) == ((T - x)^2 - 4)*sin(1/6*pi*T^2 - 1/3*pi*T*x + 1/6*pi*x^2)/((T - x)^2 - 1)"
      ]
     },
     "execution_count": 141,
     "metadata": {},
     "output_type": "execute_result"
    }
   ],
   "source": [
    "y(x+T) == y(x-T)"
   ]
  },
  {
   "cell_type": "markdown",
   "metadata": {},
   "source": [
    "Вывод : данная функция не является периодической\n"
   ]
  },
  {
   "cell_type": "markdown",
   "metadata": {},
   "source": [
    "# Найдем точки пересечения графика с осями координат\n"
   ]
  },
  {
   "cell_type": "markdown",
   "metadata": {},
   "source": [
    "Для у = 0 найдем несколько точек, ибо их бесконечное множество"
   ]
  },
  {
   "cell_type": "code",
   "execution_count": 152,
   "metadata": {},
   "outputs": [
    {
     "data": {
      "text/plain": [
       "0.0"
      ]
     },
     "execution_count": 152,
     "metadata": {},
     "output_type": "execute_result"
    }
   ],
   "source": [
    "find_root(y(x)==0,0,pi)"
   ]
  },
  {
   "cell_type": "code",
   "execution_count": 153,
   "metadata": {},
   "outputs": [
    {
     "data": {
      "text/plain": [
       "2.0"
      ]
     },
     "execution_count": 153,
     "metadata": {},
     "output_type": "execute_result"
    }
   ],
   "source": [
    "find_root(y(x)==0,1,2*pi)"
   ]
  },
  {
   "cell_type": "code",
   "execution_count": 162,
   "metadata": {},
   "outputs": [
    {
     "data": {
      "text/plain": [
       "[]"
      ]
     },
     "execution_count": 162,
     "metadata": {},
     "output_type": "execute_result"
    }
   ],
   "source": [
    "solve(x==0, y)"
   ]
  },
  {
   "cell_type": "markdown",
   "metadata": {},
   "source": [
    "# Промежутки знакопостоянства"
   ]
  },
  {
   "cell_type": "markdown",
   "metadata": {},
   "source": [
    "Промежутки знакопостоянства функции это промежутки из области определения, на которых функция сохраняет знак (либо положительна, либо отрицательна).\n",
    "Поэтому, исходя из графика нашей функции, можно судить, что все, что выше х=0, то является положительной областью, что ниже-отрицательной.Изобразим это на отрезке."
   ]
  },
  {
   "cell_type": "code",
   "execution_count": 252,
   "metadata": {},
   "outputs": [
    {
     "data": {
      "image/png": "[encoded data removed]",
      "text/plain": [
       "Graphics object consisting of 14 graphics primitives"
      ]
     },
     "metadata": {},
     "output_type": "display_data"
    }
   ],
   "source": [
    "# отрисовка отрезка - основная линия для графика промежутков знакопостоянства\n",
    "intervals_of_constancy = plot(0, xmin=-3, xmax=3, ymin=-0.1, ymax=0.1)\n",
    "\n",
    "# добавление красных маркеров - отметки точек\\маркеров\n",
    "intervals_of_constancy  += point((-2, -0), color=\"red\", size=30,  zorder=10)\n",
    "intervals_of_constancy  += point((-1, 0), color=\"red\", size=30,  zorder=10)\n",
    "intervals_of_constancy  += point((1, 0), color=\"red\", size=30,  zorder=10)\n",
    "intervals_of_constancy  += point((2, 0), color=\"red\", size=30,  zorder=10)\n",
    "\n",
    "# здесь добавляем подписи точек (значения по оси X)\n",
    "intervals_of_constancy  += text(\"$-2$\", (-2, 0.01), color=\"black\", fontsize=14)\n",
    "intervals_of_constancy  += text(\"$-1$\", (-1, 0.01), color=\"black\", fontsize=14)\n",
    "intervals_of_constancy  += text(\"$1$\", (1, 0.01), color=\"black\", fontsize=14)\n",
    "intervals_of_constancy  += text(\"$2$\", (2, 0.01), color=\"black\", fontsize=14)\n",
    "\n",
    "# Здесь добавляем подписи знаков промежутков знакопостоянства\n",
    "y_margin = 0.01  # смещение по оси Y элемента подписи, чтобы он не наслаивался на линию\n",
    "intervals_of_constancy  += text(\"+\", (-2.5 , y_margin), color=\"black\", fontsize=14) \n",
    "intervals_of_constancy  += text(\"-\", (-1.5 , y_margin), color=\"black\", fontsize=14)\n",
    "intervals_of_constancy  += text(\"+\", (0 , y_margin), color=\"black\", fontsize=14)\n",
    "intervals_of_constancy  += text(\"-\", (1.5 , y_margin), color=\"black\", fontsize=14)\n",
    "intervals_of_constancy  += text(\"+\", (2.5 , y_margin), color=\"black\", fontsize=14)\n",
    "\n",
    "# оси не нужны - скрываем\n",
    "intervals_of_constancy.show(axes=False)"
   ]
  },
  {
   "cell_type": "markdown",
   "metadata": {},
   "source": [
    "# Промежутки возрастания и убывания"
   ]
  },
  {
   "cell_type": "code",
   "execution_count": 246,
   "metadata": {},
   "outputs": [
    {
     "data": {
      "text/html": [
       "<html><script type=\"math/tex; mode=display\">\\newcommand{\\Bold}[1]{\\mathbf{#1}}\\frac{\\pi {\\left(x^{2} - 4\\right)} x \\cos\\left(\\frac{1}{6} \\, \\pi x^{2}\\right)}{3 \\, {\\left(x^{2} - 1\\right)}} + \\frac{2 \\, x \\sin\\left(\\frac{1}{6} \\, \\pi x^{2}\\right)}{x^{2} - 1} - \\frac{2 \\, {\\left(x^{2} - 4\\right)} x \\sin\\left(\\frac{1}{6} \\, \\pi x^{2}\\right)}{{\\left(x^{2} - 1\\right)}^{2}}</script></html>"
      ],
      "text/latex": [
       "\\begin{math}\n",
       "\\newcommand{\\Bold}[1]{\\mathbf{#1}}\\frac{\\pi {\\left(x^{2} - 4\\right)} x \\cos\\left(\\frac{1}{6} \\, \\pi x^{2}\\right)}{3 \\, {\\left(x^{2} - 1\\right)}} + \\frac{2 \\, x \\sin\\left(\\frac{1}{6} \\, \\pi x^{2}\\right)}{x^{2} - 1} - \\frac{2 \\, {\\left(x^{2} - 4\\right)} x \\sin\\left(\\frac{1}{6} \\, \\pi x^{2}\\right)}{{\\left(x^{2} - 1\\right)}^{2}}\n",
       "\\end{math}"
      ],
      "text/plain": [
       "1/3*pi*(x^2 - 4)*x*cos(1/6*pi*x^2)/(x^2 - 1) + 2*x*sin(1/6*pi*x^2)/(x^2 - 1) - 2*(x^2 - 4)*x*sin(1/6*pi*x^2)/(x^2 - 1)^2"
      ]
     },
     "metadata": {},
     "output_type": "display_data"
    }
   ],
   "source": [
    "dig=diff(y)\n",
    "show(dig)"
   ]
  },
  {
   "cell_type": "code",
   "execution_count": 249,
   "metadata": {},
   "outputs": [
    {
     "data": {
      "text/plain": [
       "[[0 < x,\n",
       "  pi*x^4*cos(1/6*pi*x^2) - 5*pi*x^2*cos(1/6*pi*x^2) + 4*pi*cos(1/6*pi*x^2) + 18*sin(1/6*pi*x^2) > 0],\n",
       " [x < 0,\n",
       "  -pi*x^4*cos(1/6*pi*x^2) + 5*pi*x^2*cos(1/6*pi*x^2) - 4*pi*cos(1/6*pi*x^2) - 18*sin(1/6*pi*x^2) > 0]]"
      ]
     },
     "execution_count": 249,
     "metadata": {},
     "output_type": "execute_result"
    }
   ],
   "source": [
    "solve(dig>0,x)"
   ]
  },
  {
   "cell_type": "markdown",
   "metadata": {},
   "source": [
    "Рассматривая сам график, можно взять его часть и рассмотреть промежутки убывания и возрастания на нем. Возьмем праву часть графика.\n",
    "Если на промежутке f′(x)<0 , то на этом промежутке функция убывает; если на промежутке f′(x)>0 , то на этом промежутке функция возрастает."
   ]
  },
  {
   "cell_type": "code",
   "execution_count": 266,
   "metadata": {},
   "outputs": [
    {
     "data": {
      "image/png": "[encoded data removed]",
      "text/plain": [
       "Graphics object consisting of 12 graphics primitives"
      ]
     },
     "metadata": {},
     "output_type": "display_data"
    }
   ],
   "source": [
    "import matplotlib as mpl  \n",
    "import matplotlib.pyplot as plt\n",
    "import numpy as np\n",
    "# отрисовка отрезка - основная линия для графика промежутков знакопостоянства\n",
    "intervals_of_constancy = plot(0, xmin=0, xmax=3, ymin=-0.1, ymax=0.1)\n",
    "\n",
    "# добавление красных маркеров - отметки точек\\маркеров\n",
    "intervals_of_constancy  += point((0, 0), color=\"red\", size=30,  zorder=10)\n",
    "intervals_of_constancy  += point((1, 0), color=\"red\", size=30,  zorder=10)\n",
    "intervals_of_constancy  += point((2.2, 0), color=\"red\", size=30,  zorder=10)\n",
    "intervals_of_constancy  += point((3, 0), color=\"red\", size=30,  zorder=10)\n",
    "\n",
    "# здесь добавляем подписи точек (значения по оси X)\n",
    "intervals_of_constancy  += text(\"$0$\", (0, 0.01), color=\"black\", fontsize=14)\n",
    "intervals_of_constancy  += text(\"$~1$\", (1, 0.01), color=\"black\", fontsize=14)\n",
    "intervals_of_constancy  += text(\"$~2.2$\", (2.2, 0.01), color=\"black\", fontsize=14)\n",
    "intervals_of_constancy  += text(\"$~3$\", (3, 0.01), color=\"black\", fontsize=14)\n",
    "\n",
    "# Здесь добавляем подписи знаков промежутков знакопостоянства\n",
    "y_margin = 0.01  # смещение по оси Y элемента подписи, чтобы он не наслаивался на линию\n",
    "intervals_of_constancy  += text(\"+\", (0.5 , y_margin), color=\"black\", fontsize=14)\n",
    "intervals_of_constancy  += text(\"+\", (1.7 , y_margin), color=\"black\", fontsize=14)\n",
    "intervals_of_constancy  += text(\"-\", (2.6 , y_margin), color=\"black\", fontsize=14)\n",
    "\n",
    " \n",
    "\n",
    "# оси не нужны - скрываем\n",
    "intervals_of_constancy.show(axes=False)"
   ]
  },
  {
   "cell_type": "markdown",
   "metadata": {},
   "source": [
    "# Точки экстремума и значения в этих точках\n"
   ]
  },
  {
   "cell_type": "markdown",
   "metadata": {},
   "source": [
    "Точка, в которой достигается экстремум, называется точкой экстремума. Соответственно, если достигается минимум — точка экстремума называется точкой минимума, а если максимум — точкой максимума."
   ]
  },
  {
   "cell_type": "markdown",
   "metadata": {},
   "source": [
    "По нашему графику видно,что приблизительно в точке х=-2.2 достигается максимум.Можно убедиться в этом, взяв от данной точки левые и правые значения"
   ]
  },
  {
   "cell_type": "code",
   "execution_count": 205,
   "metadata": {},
   "outputs": [
    {
     "data": {
      "text/plain": [
       "0.218750000000000*sin(0.806666666666667*pi)"
      ]
     },
     "execution_count": 205,
     "metadata": {},
     "output_type": "execute_result"
    }
   ],
   "source": [
    "y(-2.2)"
   ]
  },
  {
   "cell_type": "code",
   "execution_count": 207,
   "metadata": {},
   "outputs": [
    {
     "data": {
      "text/plain": [
       "0.120234604105572*sin(0.735000000000000*pi)"
      ]
     },
     "execution_count": 207,
     "metadata": {},
     "output_type": "execute_result"
    }
   ],
   "source": [
    "y(-2.1)"
   ]
  },
  {
   "cell_type": "code",
   "execution_count": 209,
   "metadata": {},
   "outputs": [
    {
     "data": {
      "text/plain": [
       "0.369747899159664*sin(0.960000000000000*pi)"
      ]
     },
     "execution_count": 209,
     "metadata": {},
     "output_type": "execute_result"
    }
   ],
   "source": [
    "y(-2.4)"
   ]
  },
  {
   "cell_type": "markdown",
   "metadata": {},
   "source": [
    "Приблизительно в точке х=-3 достигается минимум.\n"
   ]
  },
  {
   "cell_type": "code",
   "execution_count": 210,
   "metadata": {},
   "outputs": [
    {
     "data": {
      "text/plain": [
       "-5/8"
      ]
     },
     "execution_count": 210,
     "metadata": {},
     "output_type": "execute_result"
    }
   ],
   "source": [
    "y(-3)"
   ]
  },
  {
   "cell_type": "code",
   "execution_count": 211,
   "metadata": {},
   "outputs": [
    {
     "data": {
      "text/plain": [
       "0.675324675324675*sin(1.70666666666667*pi)"
      ]
     },
     "execution_count": 211,
     "metadata": {},
     "output_type": "execute_result"
    }
   ],
   "source": [
    "y(-3.2)"
   ]
  },
  {
   "cell_type": "code",
   "execution_count": 212,
   "metadata": {},
   "outputs": [
    {
     "data": {
      "text/plain": [
       "0.561403508771930*sin(1.30666666666667*pi)"
      ]
     },
     "execution_count": 212,
     "metadata": {},
     "output_type": "execute_result"
    }
   ],
   "source": [
    "y(-2.8)"
   ]
  },
  {
   "cell_type": "markdown",
   "metadata": {},
   "source": [
    "# Непрерывность.Наличие точек разрыва и их классификация."
   ]
  },
  {
   "cell_type": "markdown",
   "metadata": {},
   "source": [
    "Функция непрерывна на всей области определения."
   ]
  },
  {
   "cell_type": "code",
   "execution_count": 214,
   "metadata": {},
   "outputs": [
    {
     "data": {
      "text/plain": [
       "0"
      ]
     },
     "execution_count": 214,
     "metadata": {},
     "output_type": "execute_result"
    }
   ],
   "source": [
    "limit(((x^2-4)*sin(1/6*pi*x^2))/(x^2-1),x=-0)"
   ]
  },
  {
   "cell_type": "code",
   "execution_count": 216,
   "metadata": {},
   "outputs": [
    {
     "data": {
      "text/plain": [
       "0"
      ]
     },
     "execution_count": 216,
     "metadata": {},
     "output_type": "execute_result"
    }
   ],
   "source": [
    "limit(((x^2-4)*sin(1/6*pi*x^2))/(x^2-1),x=+0)"
   ]
  },
  {
   "cell_type": "markdown",
   "metadata": {},
   "source": [
    "Можно заметит, что правый и левый пределы совпадают, значит это точка устранимого разрыва."
   ]
  },
  {
   "cell_type": "markdown",
   "metadata": {},
   "source": [
    "# Асимптоты\n"
   ]
  },
  {
   "cell_type": "markdown",
   "metadata": {},
   "source": [
    "Исходя из графика, у нас имеется две вертикальные ассимптоты. х = 1 и х = -1"
   ]
  },
  {
   "cell_type": "markdown",
   "metadata": {},
   "source": [
    "# Квадрат\n"
   ]
  },
  {
   "cell_type": "code",
   "execution_count": 223,
   "metadata": {},
   "outputs": [],
   "source": [
    "import math"
   ]
  },
  {
   "cell_type": "code",
   "execution_count": 244,
   "metadata": {
    "scrolled": true
   },
   "outputs": [
    {
     "data": {
      "image/png": "[encoded data removed]",
      "text/plain": [
       "Graphics object consisting of 2 graphics primitives"
      ]
     },
     "metadata": {},
     "output_type": "display_data"
    }
   ],
   "source": [
    "a=10\n",
    "b=5\n",
    "rectangle_src1=matrix([[0,0],[0,a],[a,a],[a,0],[0,0]])\n",
    "rectangle_src2=matrix([[a,b],[a,b],[a,b],[a,b],[a,b]])\n",
    "alpha=math.radians(30)\n",
    "mat_rot=matrix([\n",
    "    [cos(alpha),sin(alpha)]\n",
    "    , [-sin(alpha),cos(alpha)]\n",
    "])\n",
    "rectangle_rotated=rectangle_src1*mat_rot+rectangle_src2\n",
    "show(line(rectangle_src)\n",
    "     + line(rectangle_rotated,color=\"red\"),\n",
    "     xmax=20, ymax=20, xmin=-20,ymin=-20,aspect_ratio=1)"
   ]
  },
  {
   "cell_type": "code",
   "execution_count": null,
   "metadata": {},
   "outputs": [],
   "source": []
  }
 ],
 "metadata": {
  "kernelspec": {
   "display_name": "SageMath 9.2",
   "language": "sage",
   "name": "sagemath"
  },
  "language_info": {
   "codemirror_mode": {
    "name": "ipython",
    "version": 3
   },
   "file_extension": ".py",
   "mimetype": "text/x-python",
   "name": "python",
   "nbconvert_exporter": "python",
   "pygments_lexer": "ipython3",
   "version": "3.7.7"
  }
 },
 "nbformat": 4,
 "nbformat_minor": 2
}
